{
 "cells": [
  {
   "cell_type": "markdown",
   "metadata": {},
   "source": [
    "# Naiwny klasyfikator Bayesa - Kajetan Legawiec, Martyna Klin"
   ]
  },
  {
   "cell_type": "markdown",
   "metadata": {},
   "source": [
    "Do klasyfikacji przy użyciu naiwnego klasyfikatora Bayesa zdecydowaliśmy się użyć zbioru danych zawierającego wiadomości __[(SMS Spam Collection)](https://archive.ics.uci.edu/dataset/228/sms+spam+collection)__ które klasyfikować będziemy jako pożądane lub jako spam. Filtry spamu są klasycznym przykładem użycia klasyfikatora Bayesa, chcieliśmy zatem spróbować stworzyć własny. Korzystamy z bibliotek pandas i scikit-learn do stworzenia klasyfikatora oraz pyplot do wyrysowania macierzy pomyłek.\n",
    "Skorzystaliśmy z Jupytera, ponieważ był dla nas bardziej intuicyjny przy analizie danych w Pythonie."
   ]
  },
  {
   "cell_type": "code",
   "execution_count": 12,
   "metadata": {},
   "outputs": [],
   "source": [
    "import string\n",
    "import pandas as pd\n",
    "from sklearn.model_selection import train_test_split\n",
    "from sklearn.metrics import classification_report, confusion_matrix, ConfusionMatrixDisplay\n",
    "import matplotlib.pyplot"
   ]
  },
  {
   "cell_type": "markdown",
   "metadata": {},
   "source": [
    "## Czyszczenie i przygotowanie danych"
   ]
  },
  {
   "cell_type": "markdown",
   "metadata": {},
   "source": [
    "Pierwsze, co robimy, to załadowanie zbioru danych oraz podzielenie danych na testowe i treningowe."
   ]
  },
  {
   "cell_type": "code",
   "execution_count": 13,
   "metadata": {},
   "outputs": [],
   "source": [
    "data = pd.read_csv('sms/SMSSpamCollection', sep='\\t', header=None, names=['label', 'sms'])"
   ]
  },
  {
   "cell_type": "code",
   "execution_count": 14,
   "metadata": {},
   "outputs": [],
   "source": [
    "y = data.iloc[:,0]\n",
    "X = data.iloc[:,1:]\n",
    "X_train, X_test, y_train, y_test = train_test_split(X,y,random_state=42)"
   ]
  },
  {
   "cell_type": "markdown",
   "metadata": {},
   "source": [
    "Patrzymy na proporcje \"spam\" i \"ham\", upewniając się, że są wystarczająco podobne w zbiorze danych treningowych i testowych."
   ]
  },
  {
   "cell_type": "code",
   "execution_count": 15,
   "metadata": {},
   "outputs": [
    {
     "data": {
      "text/plain": [
       "label\n",
       "ham     0.865757\n",
       "spam    0.134243\n",
       "Name: proportion, dtype: float64"
      ]
     },
     "execution_count": 15,
     "metadata": {},
     "output_type": "execute_result"
    }
   ],
   "source": [
    "y_train.value_counts(normalize=True)"
   ]
  },
  {
   "cell_type": "code",
   "execution_count": 16,
   "metadata": {},
   "outputs": [
    {
     "data": {
      "text/plain": [
       "label\n",
       "ham     0.866475\n",
       "spam    0.133525\n",
       "Name: proportion, dtype: float64"
      ]
     },
     "execution_count": 16,
     "metadata": {},
     "output_type": "execute_result"
    }
   ],
   "source": [
    "y_test.value_counts(normalize=True)"
   ]
  },
  {
   "cell_type": "markdown",
   "metadata": {},
   "source": [
    "Przygotowujemy część tekstową poprzez konwersję na małe litery, usunięcie interpunkcji i podzielenie łańcucha znaków na listę słów. Tworzymy w dataframe nową kolumnę, która zawiera te listy."
   ]
  },
  {
   "cell_type": "code",
   "execution_count": 17,
   "metadata": {},
   "outputs": [],
   "source": [
    "def text_cleaning(text):\n",
    "    text = text.translate(str.maketrans('', '',string.punctuation))\n",
    "    text = text.lower()\n",
    "\n",
    "    return list(text.split())"
   ]
  },
  {
   "cell_type": "code",
   "execution_count": 18,
   "metadata": {},
   "outputs": [
    {
     "data": {
      "text/html": [
       "<div>\n",
       "<style scoped>\n",
       "    .dataframe tbody tr th:only-of-type {\n",
       "        vertical-align: middle;\n",
       "    }\n",
       "\n",
       "    .dataframe tbody tr th {\n",
       "        vertical-align: top;\n",
       "    }\n",
       "\n",
       "    .dataframe thead th {\n",
       "        text-align: right;\n",
       "    }\n",
       "</style>\n",
       "<table border=\"1\" class=\"dataframe\">\n",
       "  <thead>\n",
       "    <tr style=\"text-align: right;\">\n",
       "      <th></th>\n",
       "      <th>sms</th>\n",
       "      <th>words</th>\n",
       "    </tr>\n",
       "  </thead>\n",
       "  <tbody>\n",
       "    <tr>\n",
       "      <th>4281</th>\n",
       "      <td>WINNER!! As a valued network customer you have...</td>\n",
       "      <td>[winner, as, a, valued, network, customer, you...</td>\n",
       "    </tr>\n",
       "    <tr>\n",
       "      <th>585</th>\n",
       "      <td>So how's scotland. Hope you are not over showi...</td>\n",
       "      <td>[so, hows, scotland, hope, you, are, not, over...</td>\n",
       "    </tr>\n",
       "    <tr>\n",
       "      <th>4545</th>\n",
       "      <td>when you and derek done with class?</td>\n",
       "      <td>[when, you, and, derek, done, with, class]</td>\n",
       "    </tr>\n",
       "    <tr>\n",
       "      <th>3034</th>\n",
       "      <td>Aight, lemme know what's up</td>\n",
       "      <td>[aight, lemme, know, whats, up]</td>\n",
       "    </tr>\n",
       "    <tr>\n",
       "      <th>2758</th>\n",
       "      <td>Yo we are watching a movie on netflix</td>\n",
       "      <td>[yo, we, are, watching, a, movie, on, netflix]</td>\n",
       "    </tr>\n",
       "  </tbody>\n",
       "</table>\n",
       "</div>"
      ],
      "text/plain": [
       "                                                    sms  \\\n",
       "4281  WINNER!! As a valued network customer you have...   \n",
       "585   So how's scotland. Hope you are not over showi...   \n",
       "4545                when you and derek done with class?   \n",
       "3034                        Aight, lemme know what's up   \n",
       "2758              Yo we are watching a movie on netflix   \n",
       "\n",
       "                                                  words  \n",
       "4281  [winner, as, a, valued, network, customer, you...  \n",
       "585   [so, hows, scotland, hope, you, are, not, over...  \n",
       "4545         [when, you, and, derek, done, with, class]  \n",
       "3034                    [aight, lemme, know, whats, up]  \n",
       "2758     [yo, we, are, watching, a, movie, on, netflix]  "
      ]
     },
     "execution_count": 18,
     "metadata": {},
     "output_type": "execute_result"
    }
   ],
   "source": [
    "X_train['words'] = X_train['sms'].apply(text_cleaning)\n",
    "X_train.head()"
   ]
  },
  {
   "cell_type": "markdown",
   "metadata": {},
   "source": [
    "## Ustalanie prawdopodobieństw"
   ]
  },
  {
   "cell_type": "markdown",
   "metadata": {},
   "source": [
    "Tworzymy słownik, który zawiera ilość wiadomości z każdej kategorii wewnątrz zbioru treningowego."
   ]
  },
  {
   "cell_type": "code",
   "execution_count": 19,
   "metadata": {},
   "outputs": [
    {
     "data": {
      "text/plain": [
       "{'ham': 3618, 'spam': 561}"
      ]
     },
     "execution_count": 19,
     "metadata": {},
     "output_type": "execute_result"
    }
   ],
   "source": [
    "class_count_dict = {\n",
    "    'ham': int(y_train.value_counts().iloc[0]),\n",
    "    'spam': int(y_train.value_counts().iloc[1])\n",
    "}\n",
    "class_count_dict"
   ]
  },
  {
   "cell_type": "markdown",
   "metadata": {},
   "source": [
    "Dla każdego słowa występującego w naszych danych treningowych, zliczamy ilość ich wystąpień w wiadomościach pożądanych i niepożądanych, upewniając się, że nie nadpisujemy danych w słowniku przy kolejnym wystąpieniu słowa. Zliczamy także sumę wszystkich słów dla obu klas wiadomości."
   ]
  },
  {
   "cell_type": "code",
   "execution_count": 20,
   "metadata": {},
   "outputs": [],
   "source": [
    "def count_frequencies(data):\n",
    "    word_freq_dict = {}\n",
    "    words_per_class_dict = {\n",
    "        'ham': 0,\n",
    "        'spam': 0\n",
    "    }\n",
    "    \n",
    "    for index, row in data.iterrows():\n",
    "        label = y.iloc[index]\n",
    "        for word in row['words']:\n",
    "            if word not in word_freq_dict.keys():\n",
    "                word_freq_dict[word] = {\"spam\": 0, \"ham\": 0}\n",
    "            \n",
    "            if label == 'spam':\n",
    "                word_freq_dict[word][\"spam\"] += 1\n",
    "                words_per_class_dict['spam'] += 1\n",
    "            else:\n",
    "                word_freq_dict[word][\"ham\"] += 1\n",
    "                words_per_class_dict['ham'] += 1\n",
    "    return (word_freq_dict, words_per_class_dict)"
   ]
  },
  {
   "cell_type": "code",
   "execution_count": 21,
   "metadata": {},
   "outputs": [],
   "source": [
    "word_freq_dict, words_per_class_dict = count_frequencies(X_train)"
   ]
  },
  {
   "cell_type": "code",
   "execution_count": 22,
   "metadata": {},
   "outputs": [
    {
     "data": {
      "text/plain": [
       "{'spam': 95, 'ham': 637}"
      ]
     },
     "execution_count": 22,
     "metadata": {},
     "output_type": "execute_result"
    }
   ],
   "source": [
    "word_freq_dict['and'] # testowe słowo dla sprawdzenia słownika"
   ]
  },
  {
   "cell_type": "markdown",
   "metadata": {},
   "source": [
    "Zliczamy unikatowe słowa we wszystkich wiadomościach za pomocą stworzonego słownika."
   ]
  },
  {
   "cell_type": "code",
   "execution_count": 23,
   "metadata": {},
   "outputs": [
    {
     "data": {
      "text/plain": [
       "8249"
      ]
     },
     "execution_count": 23,
     "metadata": {},
     "output_type": "execute_result"
    }
   ],
   "source": [
    "vocab_size = len(word_freq_dict)\n",
    "vocab_size"
   ]
  },
  {
   "cell_type": "markdown",
   "metadata": {},
   "source": [
    "Liczymy prawdopodobieństwa wystąpienia każdego słowa w naszym słowniku pod warunkiem, że należy ono do wiadomości pożadanej lub niepożadanej. Stosujemy wygładzanie Laplace'a, aby uniknąć problemu zerowych prawdopodobieństw poprzez dodanie stałej (tutaj domyślnie alpha = 1) do liczebności każdej cechy, co sprawia, że żadna obserwacja nie ma prawdopodobieństwa zerowego. Co byłoby złe, jak potem wyliczamy iloraz."
   ]
  },
  {
   "cell_type": "code",
   "execution_count": 24,
   "metadata": {},
   "outputs": [],
   "source": [
    "def calculate_word_probabilities(word_freq_dict, words_per_class_dict, vocab_size, alpha = 1):\n",
    "    word_prob_dict = {}\n",
    "    \n",
    "    for word, freq in word_freq_dict.items():\n",
    "        word_prob_dict[word] = {}\n",
    "        \n",
    "        word_prob_dict[word]['spam'] = (freq['spam'] + alpha) / (words_per_class_dict['spam'] + alpha*vocab_size)\n",
    "        \n",
    "        word_prob_dict[word]['ham'] = (freq['ham'] + alpha) / (words_per_class_dict['ham'] + alpha*vocab_size)\n",
    "    \n",
    "    return word_prob_dict"
   ]
  },
  {
   "cell_type": "code",
   "execution_count": 25,
   "metadata": {},
   "outputs": [
    {
     "data": {
      "text/plain": [
       "{'spam': 0.004459308807134894, 'ham': 0.010705416470904087}"
      ]
     },
     "execution_count": 25,
     "metadata": {},
     "output_type": "execute_result"
    }
   ],
   "source": [
    "word_prob_dict = calculate_word_probabilities(word_freq_dict, words_per_class_dict, vocab_size)\n",
    "word_prob_dict['and'] # testowe słowo dla sprawdzenia słownika"
   ]
  },
  {
   "cell_type": "markdown",
   "metadata": {},
   "source": [
    "## Klasyfikacja"
   ]
  },
  {
   "cell_type": "markdown",
   "metadata": {},
   "source": [
    "Przygotowujemy czysty tekst (dzielimy go na listę słów tak jak zbiór treningowy). W tej funkcji jest zawarty naiwny klasyfikator Bayesa - mnożymy prawdopodobieństwo, że wiadomość jest pożądana lub niepożadana (na podstawie proporcji wyliczonych wcześniej na bazie danych treningowych) przez prawdopodobieństwa każdego następnego słowa w wiadomości. Robimy to osobno dla prawdopodobieństwa wiadomości pożądanych i niepożądanych - w zależności od tego, który wynik jest wyższy, tak klasyfikujemy wiadomość."
   ]
  },
  {
   "cell_type": "code",
   "execution_count": 26,
   "metadata": {},
   "outputs": [],
   "source": [
    "def test_message(text, word_prob_dict):\n",
    "    words = text_cleaning(text)\n",
    "\n",
    "    message_count = class_count_dict[\"spam\"] + class_count_dict[\"ham\"]\n",
    "\n",
    "    spam_prob = class_count_dict[\"spam\"] / message_count\n",
    "    ham_prob = class_count_dict[\"ham\"] / message_count\n",
    "\n",
    "    for word in words:\n",
    "        if word in word_prob_dict.keys():\n",
    "            spam_prob *= word_prob_dict[word]['spam']\n",
    "            ham_prob *= word_prob_dict[word]['ham']\n",
    "\n",
    "    if spam_prob > ham_prob:\n",
    "        return 'spam'\n",
    "    else:\n",
    "        return 'ham'"
   ]
  },
  {
   "cell_type": "markdown",
   "metadata": {},
   "source": [
    "Wywołujemy funkcję lambdą na każdy rekord danych testowych."
   ]
  },
  {
   "cell_type": "code",
   "execution_count": 27,
   "metadata": {},
   "outputs": [
    {
     "data": {
      "text/plain": [
       "3245    ham\n",
       "944     ham\n",
       "1044    ham\n",
       "2484    ham\n",
       "812     ham\n",
       "       ... \n",
       "668     ham\n",
       "218     ham\n",
       "5536    ham\n",
       "1657    ham\n",
       "3875    ham\n",
       "Name: sms, Length: 1393, dtype: object"
      ]
     },
     "execution_count": 27,
     "metadata": {},
     "output_type": "execute_result"
    }
   ],
   "source": [
    "f = lambda x : test_message( x , word_prob_dict)\n",
    "y_pred = X_test['sms'].apply(f)\n",
    "y_pred"
   ]
  },
  {
   "cell_type": "markdown",
   "metadata": {},
   "source": [
    "Przygotowujemy macierz pomyłek i raport klasyfikacji, który pokaże nam jak dobry jest model w klasyfikacji."
   ]
  },
  {
   "cell_type": "code",
   "execution_count": 28,
   "metadata": {},
   "outputs": [
    {
     "name": "stdout",
     "output_type": "stream",
     "text": [
      "              precision    recall  f1-score   support\n",
      "\n",
      "         ham       0.99      1.00      0.99      1207\n",
      "        spam       0.99      0.91      0.95       186\n",
      "\n",
      "    accuracy                           0.99      1393\n",
      "   macro avg       0.99      0.95      0.97      1393\n",
      "weighted avg       0.99      0.99      0.99      1393\n",
      "\n"
     ]
    },
    {
     "data": {
      "text/plain": [
       "<sklearn.metrics._plot.confusion_matrix.ConfusionMatrixDisplay at 0x2a4583fbf50>"
      ]
     },
     "execution_count": 28,
     "metadata": {},
     "output_type": "execute_result"
    },
    {
     "data": {
      "image/png": "[encoded data removed]",
      "text/plain": [
       "<Figure size 640x480 with 2 Axes>"
      ]
     },
     "metadata": {},
     "output_type": "display_data"
    }
   ],
   "source": [
    "print(classification_report(y_test, y_pred))\n",
    "cm = confusion_matrix(y_test, y_pred)\n",
    "disp = ConfusionMatrixDisplay(confusion_matrix=cm,\n",
    "                              display_labels=['ham', 'spam'])\n",
    "disp.plot()"
   ]
  }
 ],
 "metadata": {
  "kernelspec": {
   "display_name": "Python 3",
   "language": "python",
   "name": "python3"
  },
  "language_info": {
   "codemirror_mode": {
    "name": "ipython",
    "version": 3
   },
   "file_extension": ".py",
   "mimetype": "text/x-python",
   "name": "python",
   "nbconvert_exporter": "python",
   "pygments_lexer": "ipython3",
   "version": "3.12.4"
  }
 },
 "nbformat": 4,
 "nbformat_minor": 2
}
